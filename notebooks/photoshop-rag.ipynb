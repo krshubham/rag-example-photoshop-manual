{
 "cells": [
  {
   "cell_type": "code",
   "execution_count": 21,
   "id": "initial_id",
   "metadata": {
    "collapsed": true,
    "ExecuteTime": {
     "end_time": "2024-06-02T12:30:04.640915Z",
     "start_time": "2024-06-02T12:30:03.945246Z"
    }
   },
   "outputs": [],
   "source": [
    "from langchain.chains.retrieval_qa.base import RetrievalQA\n",
    "from langchain_community.document_loaders import PyPDFLoader\n",
    "from langchain_community.llms.ollama import Ollama\n",
    "from langchain_core.callbacks import CallbackManager, StreamingStdOutCallbackHandler\n",
    "from langchain_core.prompts import PromptTemplate\n",
    "from langchain_text_splitters import RecursiveCharacterTextSplitter\n",
    "from langchain_community.embeddings import HuggingFaceEmbeddings\n",
    "from langchain_community.vectorstores import FAISS"
   ]
  },
  {
   "cell_type": "code",
   "outputs": [],
   "source": [
    "loader = PyPDFLoader(\"../data/photoshop_reference.pdf\")"
   ],
   "metadata": {
    "collapsed": false,
    "ExecuteTime": {
     "end_time": "2024-06-02T12:13:21.785754Z",
     "start_time": "2024-06-02T12:13:21.783044Z"
    }
   },
   "id": "2b8afcee8c14f524",
   "execution_count": 3
  },
  {
   "cell_type": "code",
   "outputs": [],
   "source": [
    "docs = loader.load()"
   ],
   "metadata": {
    "collapsed": false,
    "ExecuteTime": {
     "end_time": "2024-06-02T12:13:41.451462Z",
     "start_time": "2024-06-02T12:13:28.121953Z"
    }
   },
   "id": "86158228b2909dd8",
   "execution_count": 4
  },
  {
   "cell_type": "code",
   "outputs": [
    {
     "data": {
      "text/plain": "1017"
     },
     "execution_count": 5,
     "metadata": {},
     "output_type": "execute_result"
    }
   ],
   "source": [
    "len(docs)"
   ],
   "metadata": {
    "collapsed": false,
    "ExecuteTime": {
     "end_time": "2024-06-02T12:13:41.455728Z",
     "start_time": "2024-06-02T12:13:41.452517Z"
    }
   },
   "id": "bb8c7c77f1e3dc4a",
   "execution_count": 5
  },
  {
   "cell_type": "code",
   "outputs": [],
   "source": [
    "text_splitter = RecursiveCharacterTextSplitter(chunk_size=1000, chunk_overlap=150)\n",
    "\n",
    "docs = text_splitter.split_documents(docs)"
   ],
   "metadata": {
    "collapsed": false,
    "ExecuteTime": {
     "end_time": "2024-06-02T12:15:07.460711Z",
     "start_time": "2024-06-02T12:15:07.404185Z"
    }
   },
   "id": "8ad97cc40f52498a",
   "execution_count": 8
  },
  {
   "cell_type": "code",
   "outputs": [
    {
     "data": {
      "text/plain": "2683"
     },
     "execution_count": 9,
     "metadata": {},
     "output_type": "execute_result"
    }
   ],
   "source": [
    "len(docs)"
   ],
   "metadata": {
    "collapsed": false,
    "ExecuteTime": {
     "end_time": "2024-06-02T12:15:11.264567Z",
     "start_time": "2024-06-02T12:15:11.261720Z"
    }
   },
   "id": "a572eec2921df78b",
   "execution_count": 9
  },
  {
   "cell_type": "code",
   "outputs": [
    {
     "name": "stderr",
     "output_type": "stream",
     "text": [
      "/Users/kumarshubham/personal/photoshop-rag/.venv/lib/python3.9/site-packages/sentence_transformers/cross_encoder/CrossEncoder.py:11: TqdmExperimentalWarning: Using `tqdm.autonotebook.tqdm` in notebook mode. Use `tqdm.tqdm` instead to force console mode (e.g. in jupyter console)\n",
      "  from tqdm.autonotebook import tqdm, trange\n",
      "/Users/kumarshubham/personal/photoshop-rag/.venv/lib/python3.9/site-packages/huggingface_hub/file_download.py:1132: FutureWarning: `resume_download` is deprecated and will be removed in version 1.0.0. Downloads always resume when possible. If you want to force a new download, use `force_download=True`.\n",
      "  warnings.warn(\n"
     ]
    }
   ],
   "source": [
    "model = \"Alibaba-NLP/gte-large-en-v1.5\"\n",
    "model_kwargs = {'device':'cpu', 'trust_remote_code': True}\n",
    "encode_kwargs = {'normalize_embeddings': False}\n",
    "\n",
    "# Initialize an instance of HuggingFaceEmbeddings with the specified parameters\n",
    "embeddings = HuggingFaceEmbeddings(\n",
    "    model_name=model,     # Provide the pre-trained model's path\n",
    "    model_kwargs=model_kwargs, # Pass the model configuration options\n",
    "    encode_kwargs=encode_kwargs # Pass the encoding options\n",
    ")"
   ],
   "metadata": {
    "collapsed": false,
    "ExecuteTime": {
     "end_time": "2024-06-02T12:18:06.925427Z",
     "start_time": "2024-06-02T12:17:32.563600Z"
    }
   },
   "id": "d4dd986f319e39d1",
   "execution_count": 13
  },
  {
   "cell_type": "code",
   "outputs": [],
   "source": [
    "db = FAISS.from_documents(docs, embeddings)"
   ],
   "metadata": {
    "collapsed": false,
    "ExecuteTime": {
     "end_time": "2024-06-02T12:26:57.854916Z",
     "start_time": "2024-06-02T12:19:09.127571Z"
    }
   },
   "id": "696d72213c3906ed",
   "execution_count": 16
  },
  {
   "cell_type": "code",
   "outputs": [],
   "source": [
    "template = \"\"\"Use the following pieces of context to answer the question at the end.\n",
    "    If you don't know the answer, just say that you don't know, don't try to make up an answer.\n",
    "    Give a detailed answer in upto 5 sentences.\n",
    "    {context}\n",
    "    Question: {question}\n",
    "    Helpful Answer:\"\"\"\n",
    "QA_CHAIN_PROMPT = PromptTemplate(\n",
    "    input_variables=[\"context\", \"question\"],\n",
    "    template=template,\n",
    ")"
   ],
   "metadata": {
    "collapsed": false,
    "ExecuteTime": {
     "end_time": "2024-06-02T12:30:20.573864Z",
     "start_time": "2024-06-02T12:30:20.570133Z"
    }
   },
   "id": "402aa01765c90d41",
   "execution_count": 24
  },
  {
   "cell_type": "code",
   "outputs": [],
   "source": [
    "llm = Ollama(model=\"llama3:8b\", callback_manager=CallbackManager([StreamingStdOutCallbackHandler()]))\n",
    "qa_chain = RetrievalQA.from_chain_type(\n",
    "    llm,\n",
    "    retriever=db.as_retriever(),\n",
    "    chain_type_kwargs={\"prompt\": QA_CHAIN_PROMPT},\n",
    ")"
   ],
   "metadata": {
    "collapsed": false,
    "ExecuteTime": {
     "end_time": "2024-06-02T12:30:20.877022Z",
     "start_time": "2024-06-02T12:30:20.872640Z"
    }
   },
   "id": "c7204c06b7941598",
   "execution_count": 25
  },
  {
   "cell_type": "code",
   "outputs": [
    {
     "name": "stdout",
     "output_type": "stream",
     "text": [
      "Based on the provided context, here is a detailed answer to your question:\n",
      "To determine whether you can run Adobe Photoshop with 1 GB of RAM, we need to look at the minimum system requirements mentioned in the context. According to the text, the recommended RAM for Photoshop is 8 GB, but the minimum requirement is 2 GB or more of RAM. Since you have 1 GB of RAM, which is less than the minimum requirement, it's unlikely that you can run Adobe Photoshop with this amount of RAM. However, if you want to try running Photoshop with 1 GB of RAM, it might be slow and unstable due to limited memory availability."
     ]
    }
   ],
   "source": [
    "result = qa_chain({\"query\": \"What are the system requirements for Adobe Photoshop and can I run it with 1 GB of RAM?\"})"
   ],
   "metadata": {
    "collapsed": false,
    "ExecuteTime": {
     "end_time": "2024-06-02T12:31:23.863361Z",
     "start_time": "2024-06-02T12:31:19.072048Z"
    }
   },
   "id": "8a4708d1c5e7764f",
   "execution_count": 28
  },
  {
   "cell_type": "code",
   "outputs": [],
   "source": [],
   "metadata": {
    "collapsed": false
   },
   "id": "e465cf16b49f34bd"
  }
 ],
 "metadata": {
  "kernelspec": {
   "display_name": "Python 3",
   "language": "python",
   "name": "python3"
  },
  "language_info": {
   "codemirror_mode": {
    "name": "ipython",
    "version": 2
   },
   "file_extension": ".py",
   "mimetype": "text/x-python",
   "name": "python",
   "nbconvert_exporter": "python",
   "pygments_lexer": "ipython2",
   "version": "2.7.6"
  }
 },
 "nbformat": 4,
 "nbformat_minor": 5
}
